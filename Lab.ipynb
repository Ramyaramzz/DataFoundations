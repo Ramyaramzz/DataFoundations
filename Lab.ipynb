{
  "cells": [
    {
      "cell_type": "markdown",
      "metadata": {
        "id": "view-in-github",
        "colab_type": "text"
      },
      "source": [
        "<a href=\"https://colab.research.google.com/github/Ramyaramzz/DataFoundations/blob/main/Lab.ipynb\" target=\"_parent\"><img src=\"https://colab.research.google.com/assets/colab-badge.svg\" alt=\"Open In Colab\"/></a>"
      ]
    },
    {
      "cell_type": "markdown",
      "metadata": {
        "id": "Fgj3YQ_uWwFQ"
      },
      "source": [
        "# Python as a Calculator\n",
        "\n",
        "Blank notebook to be used for class exercises.\n",
        "\n",
        "Name: Ramya Tiyyagura\n",
        "\n",
        "abc123: VHY172"
      ]
    },
    {
      "cell_type": "markdown",
      "metadata": {
        "id": "cMdbfiabWwFW"
      },
      "source": [
        "## Exercise 1\n",
        "\n",
        "Change Hello to Goodbye, then run the cell."
      ]
    },
    {
      "cell_type": "code",
      "execution_count": null,
      "metadata": {
        "colab": {
          "base_uri": "https://localhost:8080/"
        },
        "id": "LRLyiqqMWwFY",
        "outputId": "10877a75-2a77-4b32-83a5-9abb5009adac"
      },
      "outputs": [
        {
          "output_type": "stream",
          "name": "stdout",
          "text": [
            "Goodbye World!\n"
          ]
        }
      ],
      "source": [
        "print(\"Goodbye World!\")"
      ]
    },
    {
      "cell_type": "markdown",
      "metadata": {
        "id": "w21M-L8iWwFd"
      },
      "source": [
        "## Exercise 2\n",
        "In the cell below, calculate the following expressions (cast to integers using int()):\n",
        "\n",
        "| a | b|\n",
        "----|---- |\n",
        "| 12 + 4  | 12 + 5 |\n",
        "| 12 -4   | 12 - 5 |\n",
        "| 12 $\\times$ 4 | 12 $\\times$ 5 |\n",
        "| 12 $\\div$ 4 | 12 $\\div$ 5|\n",
        "| $12^4$ | $12^5$ |\n",
        "\n",
        "Which is wrong?"
      ]
    },
    {
      "cell_type": "code",
      "execution_count": null,
      "metadata": {
        "colab": {
          "base_uri": "https://localhost:8080/"
        },
        "id": "Bjo90EH1WwFe",
        "outputId": "e3fcadf8-4336-4dc1-b236-6f28d31e7b52"
      },
      "outputs": [
        {
          "output_type": "execute_result",
          "data": {
            "text/plain": [
              "16"
            ]
          },
          "metadata": {},
          "execution_count": 2
        }
      ],
      "source": [
        "# This is  a comment. Make sure you wrap all the expressions like the example below.\n",
        "# Also, create a new cell for each expression (i.e., press the + button in Jupyter Lab)\n",
        "int(12 + 4) # I have done the first one for you. You can create new cells for the others."
      ]
    },
    {
      "cell_type": "code",
      "execution_count": null,
      "metadata": {
        "colab": {
          "base_uri": "https://localhost:8080/"
        },
        "id": "To6uuAIkWwFg",
        "outputId": "a07c4772-61dc-4246-c7d9-06ac1470d5f7"
      },
      "outputs": [
        {
          "output_type": "execute_result",
          "data": {
            "text/plain": [
              "17"
            ]
          },
          "metadata": {},
          "execution_count": 3
        }
      ],
      "source": [
        "int(12+5)"
      ]
    },
    {
      "cell_type": "code",
      "execution_count": null,
      "metadata": {
        "colab": {
          "base_uri": "https://localhost:8080/"
        },
        "id": "ZM9MDSaQWwFh",
        "outputId": "0a804d30-5a42-4687-e1fd-6d6b64921e1f"
      },
      "outputs": [
        {
          "output_type": "execute_result",
          "data": {
            "text/plain": [
              "8"
            ]
          },
          "metadata": {},
          "execution_count": 4
        }
      ],
      "source": [
        "int(12-4)"
      ]
    },
    {
      "cell_type": "code",
      "execution_count": null,
      "metadata": {
        "colab": {
          "base_uri": "https://localhost:8080/"
        },
        "id": "tNH2bJW0WwFi",
        "outputId": "21dc0903-bc1e-4534-deeb-ad9baac34ba4"
      },
      "outputs": [
        {
          "output_type": "execute_result",
          "data": {
            "text/plain": [
              "7"
            ]
          },
          "metadata": {},
          "execution_count": 5
        }
      ],
      "source": [
        "int(12-5)"
      ]
    },
    {
      "cell_type": "code",
      "execution_count": null,
      "metadata": {
        "colab": {
          "base_uri": "https://localhost:8080/"
        },
        "id": "ufnqNxP4WwFj",
        "outputId": "db06b41e-2d50-41a7-e11c-c74fa51d5d48"
      },
      "outputs": [
        {
          "output_type": "execute_result",
          "data": {
            "text/plain": [
              "48"
            ]
          },
          "metadata": {},
          "execution_count": 6
        }
      ],
      "source": [
        "int(12*4)"
      ]
    },
    {
      "cell_type": "code",
      "execution_count": null,
      "metadata": {
        "colab": {
          "base_uri": "https://localhost:8080/"
        },
        "id": "lGzQ4qXpWwFl",
        "outputId": "c33fc79c-030b-4698-9596-a43aa1051eda"
      },
      "outputs": [
        {
          "output_type": "execute_result",
          "data": {
            "text/plain": [
              "60"
            ]
          },
          "metadata": {},
          "execution_count": 7
        }
      ],
      "source": [
        "int(12*5)"
      ]
    },
    {
      "cell_type": "code",
      "execution_count": null,
      "metadata": {
        "colab": {
          "base_uri": "https://localhost:8080/"
        },
        "id": "0n1CphKnWwFm",
        "outputId": "6b84cc44-3588-40fc-c0ad-301ed11f4869"
      },
      "outputs": [
        {
          "output_type": "execute_result",
          "data": {
            "text/plain": [
              "3"
            ]
          },
          "metadata": {},
          "execution_count": 8
        }
      ],
      "source": [
        "int(12/4)"
      ]
    },
    {
      "cell_type": "code",
      "execution_count": null,
      "metadata": {
        "colab": {
          "base_uri": "https://localhost:8080/"
        },
        "id": "grqLZMqhWwFn",
        "outputId": "8891a56d-12b0-45ca-bdeb-f875cbb472ae"
      },
      "outputs": [
        {
          "output_type": "execute_result",
          "data": {
            "text/plain": [
              "2"
            ]
          },
          "metadata": {},
          "execution_count": 9
        }
      ],
      "source": [
        "int(12/5)"
      ]
    },
    {
      "cell_type": "code",
      "execution_count": null,
      "metadata": {
        "colab": {
          "base_uri": "https://localhost:8080/"
        },
        "id": "xKm1lRgmWwFp",
        "outputId": "ac771a2a-94e8-40f9-b433-fddeaf7d2e20"
      },
      "outputs": [
        {
          "output_type": "execute_result",
          "data": {
            "text/plain": [
              "20736"
            ]
          },
          "metadata": {},
          "execution_count": 10
        }
      ],
      "source": [
        "int(12**4)   # instead of 12 power 4, we can use 12**4"
      ]
    },
    {
      "cell_type": "code",
      "execution_count": null,
      "metadata": {
        "colab": {
          "base_uri": "https://localhost:8080/"
        },
        "id": "hxTefgqiWwFr",
        "outputId": "4d357d39-6852-4861-f2f2-da1500797611"
      },
      "outputs": [
        {
          "output_type": "execute_result",
          "data": {
            "text/plain": [
              "248832"
            ]
          },
          "metadata": {},
          "execution_count": 11
        }
      ],
      "source": [
        "int(12**5)"
      ]
    },
    {
      "cell_type": "markdown",
      "metadata": {
        "id": "_EpRg-kXWwFs"
      },
      "source": [
        "## Exercise 3\n",
        "\n",
        "In a cell for each item, alculate the following expressions one at a time:\n",
        "\n",
        "1. 12.0 + 4.0\n",
        "2. 12.0 $\\div$ 4.0\n",
        "3. $25.0^{0.5}$\n",
        "4. $5.0^{-1.0}$\n",
        "5. 5.0 $\\div$ 2"
      ]
    },
    {
      "cell_type": "code",
      "execution_count": null,
      "metadata": {
        "colab": {
          "base_uri": "https://localhost:8080/"
        },
        "id": "tHn0TGhVWwFt",
        "outputId": "4a5fb505-09be-4ba6-9f27-63c0d27603f2"
      },
      "outputs": [
        {
          "output_type": "execute_result",
          "data": {
            "text/plain": [
              "16.0"
            ]
          },
          "metadata": {},
          "execution_count": 12
        }
      ],
      "source": [
        "12.0+4.0"
      ]
    },
    {
      "cell_type": "code",
      "execution_count": null,
      "metadata": {
        "colab": {
          "base_uri": "https://localhost:8080/"
        },
        "id": "B3g1Xbx-WwFt",
        "outputId": "61435938-43a2-4113-d60e-7b1cdf4e3463"
      },
      "outputs": [
        {
          "output_type": "execute_result",
          "data": {
            "text/plain": [
              "3.0"
            ]
          },
          "metadata": {},
          "execution_count": 13
        }
      ],
      "source": [
        "12.0/4.0"
      ]
    },
    {
      "cell_type": "code",
      "execution_count": null,
      "metadata": {
        "colab": {
          "base_uri": "https://localhost:8080/"
        },
        "id": "i7lXEStUWwFu",
        "outputId": "e45fed0c-258a-4849-826f-d1c3c3ad1102"
      },
      "outputs": [
        {
          "output_type": "execute_result",
          "data": {
            "text/plain": [
              "5.0"
            ]
          },
          "metadata": {},
          "execution_count": 14
        }
      ],
      "source": [
        "25.0 ** 0.5"
      ]
    },
    {
      "cell_type": "code",
      "execution_count": null,
      "metadata": {
        "colab": {
          "base_uri": "https://localhost:8080/"
        },
        "id": "QCgvlLa_WwFv",
        "outputId": "45453546-09d7-4559-d946-c064fe23393a"
      },
      "outputs": [
        {
          "output_type": "execute_result",
          "data": {
            "text/plain": [
              "0.2"
            ]
          },
          "metadata": {},
          "execution_count": 15
        }
      ],
      "source": [
        "5.0 ** -1.0"
      ]
    },
    {
      "cell_type": "code",
      "execution_count": null,
      "metadata": {
        "colab": {
          "base_uri": "https://localhost:8080/"
        },
        "id": "-z9y7sLeWwFw",
        "outputId": "c75d51c4-63b9-4fd4-c53c-e6543d24e79a"
      },
      "outputs": [
        {
          "output_type": "execute_result",
          "data": {
            "text/plain": [
              "2.5"
            ]
          },
          "metadata": {},
          "execution_count": 16
        }
      ],
      "source": [
        "5.0 / 2"
      ]
    },
    {
      "cell_type": "markdown",
      "metadata": {
        "id": "QpXnyRxEWwFx"
      },
      "source": [
        "## Exercise 4\n",
        "\n",
        "First, predict what the python result will be. Next, in the cell below, calculate the following expressions one at a time:\n",
        "\n",
        "1. 'Hello, ' + \"world!\"\n",
        "2. 'Hello!' * 3\n",
        "3. '' * 10000000000 # two adjacent single quotes\n",
        "4. '4' + '2'"
      ]
    },
    {
      "cell_type": "code",
      "execution_count": null,
      "metadata": {
        "colab": {
          "base_uri": "https://localhost:8080/",
          "height": 36
        },
        "id": "gyTFR7wiWwFy",
        "outputId": "d70d19df-3148-48cd-d0f1-4cc4d8ad43a5"
      },
      "outputs": [
        {
          "output_type": "execute_result",
          "data": {
            "text/plain": [
              "'Hello, world!'"
            ],
            "application/vnd.google.colaboratory.intrinsic+json": {
              "type": "string"
            }
          },
          "metadata": {},
          "execution_count": 17
        }
      ],
      "source": [
        "'Hello, ' + \"world!\""
      ]
    },
    {
      "cell_type": "code",
      "execution_count": null,
      "metadata": {
        "colab": {
          "base_uri": "https://localhost:8080/",
          "height": 36
        },
        "id": "QoQDhChMWwFz",
        "outputId": "b819403a-4e1f-4fe0-894a-ec80de596cb2"
      },
      "outputs": [
        {
          "output_type": "execute_result",
          "data": {
            "text/plain": [
              "'Hello!Hello!Hello!'"
            ],
            "application/vnd.google.colaboratory.intrinsic+json": {
              "type": "string"
            }
          },
          "metadata": {},
          "execution_count": 18
        }
      ],
      "source": [
        "'Hello!' * 3"
      ]
    },
    {
      "cell_type": "code",
      "execution_count": null,
      "metadata": {
        "colab": {
          "base_uri": "https://localhost:8080/",
          "height": 36
        },
        "id": "HiqHJtHEWwF0",
        "outputId": "c61b6e03-6382-4c12-e71a-858e49aa01db"
      },
      "outputs": [
        {
          "output_type": "execute_result",
          "data": {
            "text/plain": [
              "''"
            ],
            "application/vnd.google.colaboratory.intrinsic+json": {
              "type": "string"
            }
          },
          "metadata": {},
          "execution_count": 19
        }
      ],
      "source": [
        "'' * 10000000000  # empty string"
      ]
    },
    {
      "cell_type": "code",
      "execution_count": null,
      "metadata": {
        "colab": {
          "base_uri": "https://localhost:8080/",
          "height": 36
        },
        "id": "d5-6n4BfWwF1",
        "outputId": "8ecc15d7-4a84-4da1-9006-28aa7090c7ed"
      },
      "outputs": [
        {
          "output_type": "execute_result",
          "data": {
            "text/plain": [
              "'42'"
            ],
            "application/vnd.google.colaboratory.intrinsic+json": {
              "type": "string"
            }
          },
          "metadata": {},
          "execution_count": 20
        }
      ],
      "source": [
        "'4' + '2'  # Integers with qoutes would consider as a string "
      ]
    },
    {
      "cell_type": "markdown",
      "metadata": {
        "id": "fqAdnAhDWwF2"
      },
      "source": [
        "## Exercise 5\n",
        "\n",
        "Predict whether Python will print True or False before you type the following expressions.\n",
        "\n",
        "1. 1 > 2 or 2 > 1\n",
        "2. 1 > 2 or not 2 > 1\n",
        "3. not True\n",
        "4. 1 > 2 or True"
      ]
    },
    {
      "cell_type": "code",
      "execution_count": null,
      "metadata": {
        "colab": {
          "base_uri": "https://localhost:8080/"
        },
        "id": "rQKP7FcLWwF3",
        "outputId": "0ca00e10-f105-44e7-b83b-aaa5f76fc8aa"
      },
      "outputs": [
        {
          "output_type": "execute_result",
          "data": {
            "text/plain": [
              "True"
            ]
          },
          "metadata": {},
          "execution_count": 21
        }
      ],
      "source": [
        "1 > 2 or 2 > 1"
      ]
    },
    {
      "cell_type": "code",
      "execution_count": null,
      "metadata": {
        "colab": {
          "base_uri": "https://localhost:8080/"
        },
        "id": "OkAYcDNSWwF3",
        "outputId": "c9da2182-26db-4ddb-f446-a799c395507b"
      },
      "outputs": [
        {
          "output_type": "execute_result",
          "data": {
            "text/plain": [
              "False"
            ]
          },
          "metadata": {},
          "execution_count": 22
        }
      ],
      "source": [
        "1 > 2 or not 2 > 1"
      ]
    },
    {
      "cell_type": "code",
      "execution_count": null,
      "metadata": {
        "colab": {
          "base_uri": "https://localhost:8080/"
        },
        "id": "hhY5kj-JWwF4",
        "outputId": "5eb04def-8e95-4168-93fb-560975a4ba37"
      },
      "outputs": [
        {
          "output_type": "execute_result",
          "data": {
            "text/plain": [
              "False"
            ]
          },
          "metadata": {},
          "execution_count": 23
        }
      ],
      "source": [
        "not True"
      ]
    },
    {
      "cell_type": "code",
      "execution_count": null,
      "metadata": {
        "colab": {
          "base_uri": "https://localhost:8080/"
        },
        "id": "nPZ9AzxPWwF5",
        "outputId": "42521429-3898-43e8-bf37-172704ede5b2"
      },
      "outputs": [
        {
          "output_type": "execute_result",
          "data": {
            "text/plain": [
              "True"
            ]
          },
          "metadata": {},
          "execution_count": 24
        }
      ],
      "source": [
        "1 > 2 or True"
      ]
    },
    {
      "cell_type": "markdown",
      "metadata": {
        "id": "cNiB71oMWwF6"
      },
      "source": [
        "## Exercise 6\n",
        "\n",
        "Write the if, elif, else statements to process a score between 0.0 and 1.0. If the score is out of range, print an error message. If the score is between 0.0 and 1.0, print the grade using the following table:\n",
        "\n",
        "| Score | Grade |\n",
        "| ----- | ----- |\n",
        "| $\\geq$ 0.9 | A |\n",
        "| $\\geq$ 0.8 | B |\n",
        "| $\\geq$ 0.7 | C |\n",
        "| $\\geq$ 0.6 | D |\n",
        "| $<$ 0.6 | F |"
      ]
    },
    {
      "cell_type": "code",
      "execution_count": null,
      "metadata": {
        "id": "cEn0-ao5WwF6"
      },
      "outputs": [],
      "source": [
        "score = 0.72"
      ]
    },
    {
      "cell_type": "code",
      "execution_count": null,
      "metadata": {
        "colab": {
          "base_uri": "https://localhost:8080/"
        },
        "id": "f41v4JTyWwF7",
        "outputId": "508b94b4-4266-45ac-8e52-ee3bb3b04532"
      },
      "outputs": [
        {
          "output_type": "stream",
          "name": "stdout",
          "text": [
            "C\n"
          ]
        }
      ],
      "source": [
        "if score < 0 or score > 1.0:\n",
        "   print(\"Error, Invalid Grade\")\n",
        "elif score >= 0.9:\n",
        "    print(\"A\")\n",
        "elif score >= 0.8:\n",
        "    print(\"B\")\n",
        "elif score>= 0.7:\n",
        "    print(\"C\")\n",
        "elif score>= 0.6:\n",
        "    print(\"D\")\n",
        "else:\n",
        "    print(\"F\")\n"
      ]
    }
  ],
  "metadata": {
    "kernelspec": {
      "display_name": "Python 3 (ipykernel)",
      "language": "python",
      "name": "python3"
    },
    "language_info": {
      "codemirror_mode": {
        "name": "ipython",
        "version": 3
      },
      "file_extension": ".py",
      "mimetype": "text/x-python",
      "name": "python",
      "nbconvert_exporter": "python",
      "pygments_lexer": "ipython3",
      "version": "3.9.12"
    },
    "colab": {
      "provenance": [],
      "collapsed_sections": [],
      "include_colab_link": true
    }
  },
  "nbformat": 4,
  "nbformat_minor": 0
}